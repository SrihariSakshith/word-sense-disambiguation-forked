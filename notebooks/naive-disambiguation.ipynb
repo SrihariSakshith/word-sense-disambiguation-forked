{
 "cells": [
  {
   "cell_type": "markdown",
   "metadata": {},
   "source": [
    "# Naive Disambiguation (Method 1)\n",
    "\n",
    "__Anish Sachdeva (DTU/2K16/MC/013)__\n",
    "\n",
    "__Natural Langauge Processing (Dr. Seba Suasan)__\n",
    "\n",
    "Naive disambiguation as the name suggests is a simple and naive method to disambiguate the sense of a given word. This method doesn't use any surrounding words or any other similarity metric for that matter, but simply uses the first sense given by the synsets in the `wordnet` interface in `nltk`."
   ]
  },
  {
   "cell_type": "code",
   "execution_count": 1,
   "metadata": {},
   "outputs": [
    {
     "name": "stderr",
     "output_type": "stream",
     "text": [
      "[nltk_data] Downloading package wordnet to\n",
      "[nltk_data]     C:\\Users\\anish\\AppData\\Roaming\\nltk_data...\n",
      "[nltk_data]   Package wordnet is already up-to-date!\n"
     ]
    }
   ],
   "source": [
    "# Importing all required packages \n",
    "import nltk\n",
    "from nltk.corpus import wordnet\n",
    "nltk.download('wordnet')\n",
    "import pprint"
   ]
  },
  {
   "cell_type": "code",
   "execution_count": 2,
   "metadata": {},
   "outputs": [],
   "source": [
    "# create a method returns the first synset of a given word\n",
    "def naive_disambiguation(word: str):\n",
    "    synsets = wordnet.synsets(word)\n",
    "    sense = synsets[0]\n",
    "    return sense"
   ]
  },
  {
   "cell_type": "markdown",
   "metadata": {},
   "source": [
    "Test your own word and disambiguate the meaning of it "
   ]
  },
  {
   "cell_type": "code",
   "execution_count": 3,
   "metadata": {},
   "outputs": [
    {
     "name": "stdout",
     "output_type": "stream",
     "text": [
      "Definition: an island in Indonesia to the south of Borneo; one of the world's most densely populated regions\n",
      "Examples:\n",
      "[]\n"
     ]
    }
   ],
   "source": [
    "word = 'java' # you can replae this here\n",
    "sense = naive_disambiguation(word)\n",
    "print('Definition:', sense.definition())\n",
    "print('Examples:')\n",
    "pprint.pprint(sense.examples())"
   ]
  },
  {
   "cell_type": "markdown",
   "metadata": {},
   "source": [
    "In the above example we see the the word __java__ is disambiguated to the island Java irrespective of where we use the word __java__ in our document. We can use it in _\"Java is my favourite Programming Language\"_ or _\"I have a cup of Java in the morning\"_. \n",
    "\n",
    "We can see all senses of the word __Java__ below:"
   ]
  },
  {
   "cell_type": "code",
   "execution_count": 4,
   "metadata": {},
   "outputs": [
    {
     "name": "stdout",
     "output_type": "stream",
     "text": [
      "an island in Indonesia to the south of Borneo; one of the world's most densely populated regions\n",
      "a beverage consisting of an infusion of ground coffee beans\n",
      "a platform-independent object-oriented programming language\n"
     ]
    }
   ],
   "source": [
    "for synset in wordnet.synsets('java'):\n",
    "    print(synset.definition())"
   ]
  }
 ],
 "metadata": {
  "kernelspec": {
   "display_name": "Python 3",
   "language": "python",
   "name": "python3"
  },
  "language_info": {
   "codemirror_mode": {
    "name": "ipython",
    "version": 3
   },
   "file_extension": ".py",
   "mimetype": "text/x-python",
   "name": "python",
   "nbconvert_exporter": "python",
   "pygments_lexer": "ipython3",
   "version": "3.7.9"
  }
 },
 "nbformat": 4,
 "nbformat_minor": 4
}
