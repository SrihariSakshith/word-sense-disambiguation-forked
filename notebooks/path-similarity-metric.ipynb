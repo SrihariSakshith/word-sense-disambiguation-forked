{
 "cells": [
  {
   "cell_type": "markdown",
   "metadata": {},
   "source": [
    "# Path Length Similarity (Method 3)\n",
    "\n",
    "__Anish Sachdeva (DTU/2K16/MC/13)__\n",
    "\n",
    "__Natural Language Processing (Dr. Seba Susan)__\n",
    "\n",
    "In the method we are given 2 synsets (words) and we find the smallest hop path between the given synsets $pathlen(c_1, c_2)$ and we compute the similarity as $-\\log{pathlen(c_1, c_2)}$.   "
   ]
  },
  {
   "cell_type": "code",
   "execution_count": 1,
   "metadata": {},
   "outputs": [],
   "source": [
    "# Importing required packages\n",
    "import nltk\n",
    "import pickle\n",
    "import pprint\n",
    "from nltk.corpus import wordnet\n",
    "# nltk.download('wordnet')\n",
    "import pandas as pd\n",
    "import numpy as np\n",
    "from scipy import stats"
   ]
  },
  {
   "cell_type": "code",
   "execution_count": 2,
   "metadata": {},
   "outputs": [],
   "source": [
    "# We define inifinity\n",
    "infinity = float('inf')"
   ]
  },
  {
   "cell_type": "markdown",
   "metadata": {},
   "source": [
    "We now define the similarity metric to compute the $sim_{path}(w_1, w_2)$ given the Hypernym Paths of 2 synsets."
   ]
  },
  {
   "cell_type": "code",
   "execution_count": 4,
   "metadata": {},
   "outputs": [],
   "source": [
    "def path_similarity(hypernym_path1: list, hypernym_path2: list) -> float:\n",
    "    \"\"\"\":returns the shortest path similarity metric between 2 hypernym paths\"\"\"\n",
    "    count = 0\n",
    "    for index, synset in enumerate(hypernym_path1):\n",
    "        if len(hypernym_path2) <= index or synset != hypernym_path2[index]:\n",
    "            break\n",
    "        count += 1\n",
    "    return -np.log(len(hypernym_path1) + len(hypernym_path2) - 2 * count)"
   ]
  },
  {
   "cell_type": "markdown",
   "metadata": {},
   "source": [
    "Let us see the hypernyms of a sample word to get a feel for the Hypernym paths. We can se that the word _dog_ for the noun canne has 2 hypernym paths and one particular may be closer to _cat_ and one may be closer _canine_ or _wolf_. "
   ]
  },
  {
   "cell_type": "code",
   "execution_count": 7,
   "metadata": {},
   "outputs": [
    {
     "name": "stdout",
     "output_type": "stream",
     "text": [
      "[[Synset('entity.n.01'),\n",
      "  Synset('physical_entity.n.01'),\n",
      "  Synset('object.n.01'),\n",
      "  Synset('whole.n.02'),\n",
      "  Synset('living_thing.n.01'),\n",
      "  Synset('organism.n.01'),\n",
      "  Synset('animal.n.01'),\n",
      "  Synset('chordate.n.01'),\n",
      "  Synset('vertebrate.n.01'),\n",
      "  Synset('mammal.n.01'),\n",
      "  Synset('placental.n.01'),\n",
      "  Synset('carnivore.n.01'),\n",
      "  Synset('canine.n.02'),\n",
      "  Synset('dog.n.01')],\n",
      " [Synset('entity.n.01'),\n",
      "  Synset('physical_entity.n.01'),\n",
      "  Synset('object.n.01'),\n",
      "  Synset('whole.n.02'),\n",
      "  Synset('living_thing.n.01'),\n",
      "  Synset('organism.n.01'),\n",
      "  Synset('animal.n.01'),\n",
      "  Synset('domestic_animal.n.01'),\n",
      "  Synset('dog.n.01')]]\n"
     ]
    }
   ],
   "source": [
    "dog = wordnet.synset('dog.n.01')\n",
    "pprint.pprint(dog.hypernym_paths())"
   ]
  },
  {
   "cell_type": "markdown",
   "metadata": {},
   "source": [
    "Let us see the similarity metric between _dog_, _cat_ and _wolf_."
   ]
  },
  {
   "cell_type": "code",
   "execution_count": 8,
   "metadata": {},
   "outputs": [],
   "source": [
    "cat = wordnet.synset('cat.n.01')\n",
    "wolf = wordnet.synset('wolf.n.01')"
   ]
  },
  {
   "cell_type": "code",
   "execution_count": 14,
   "metadata": {},
   "outputs": [
    {
     "name": "stdout",
     "output_type": "stream",
     "text": [
      "-0.6931471805599453\n"
     ]
    }
   ],
   "source": [
    "print(path_similarity(dog.hypernym_paths()[0], wolf.hypernym_paths()[0]))"
   ]
  },
  {
   "cell_type": "code",
   "execution_count": 13,
   "metadata": {},
   "outputs": [
    {
     "name": "stdout",
     "output_type": "stream",
     "text": [
      "-1.3862943611198906\n"
     ]
    }
   ],
   "source": [
    "print(path_similarity(dog.hypernym_paths()[0], cat.hypernym_paths()[0]))"
   ]
  },
  {
   "cell_type": "code",
   "execution_count": 12,
   "metadata": {},
   "outputs": [
    {
     "name": "stdout",
     "output_type": "stream",
     "text": [
      "inf\n"
     ]
    },
    {
     "name": "stderr",
     "output_type": "stream",
     "text": [
      "c:\\python37\\lib\\site-packages\\ipykernel_launcher.py:8: RuntimeWarning: divide by zero encountered in log\n",
      "  \n"
     ]
    }
   ],
   "source": [
    "print(path_similarity(dog.hypernym_paths(), dog.hypernym_paths()))"
   ]
  },
  {
   "cell_type": "markdown",
   "metadata": {},
   "source": [
    "So, we can see that actually a wolf is closer to a dog than a cat is to a dog and a dog is equivalent to a dog, hence the infite similarity metric. We now define a method that will find the maximum similarty between 2 synsets after comparing all possible hypernyms. "
   ]
  },
  {
   "cell_type": "code",
   "execution_count": 16,
   "metadata": {},
   "outputs": [],
   "source": [
    "# Define a method return maximum path similarity score given 2 synsets in wordnet\n",
    "def max_similarity_path(synset_1, synset_2) -> float:\n",
    "    \"\"\":returns the highest path similarity metric score between 2 synsets\"\"\"\n",
    "    max_similarity = -infinity\n",
    "    for hypernym_path_1 in synset_1.hypernym_paths():\n",
    "        for hypernym_path_2 in synset_2.hypernym_paths():\n",
    "            max_similarity = max(max_similarity, path_similarity(hypernym_path_1, hypernym_path_2))\n",
    "    return max_similarity"
   ]
  },
  {
   "cell_type": "markdown",
   "metadata": {},
   "source": [
    "We now define a method that will take 2 words (as strings) and will retiurn us 3 things\n",
    "1. The synset for the first word\n",
    "1. The synset of the second word\n",
    "1. The maximum possible similarity score achieved between these synsets\n",
    "\n",
    "The algorithm will also place the synsets to maximize possible similaritys score."
   ]
  },
  {
   "cell_type": "code",
   "execution_count": 27,
   "metadata": {},
   "outputs": [],
   "source": [
    "def closest_synsets(word_1: str, word_2: str):\n",
    "    \"\"\":returns the closest synsets for 2 given words based on path similarity metric\"\"\"\n",
    "    word_1 = wordnet.synsets(word_1.lower())\n",
    "    word_2 = wordnet.synsets(word_2.lower())\n",
    "    max_similarity = -float('inf')\n",
    "    try:\n",
    "        synset_1_optimal = word_1[0]\n",
    "        synset_2_optimal = word_2[0]\n",
    "    except:\n",
    "        return None, None, -infinity\n",
    "\n",
    "    for synset_1 in word_1:\n",
    "        for synset_2 in word_2:\n",
    "            similarity = max_similarity_path(synset_1, synset_2)\n",
    "            if max_similarity < similarity:\n",
    "                max_similarity = similarity\n",
    "                synset_1_optimal = synset_1\n",
    "                synset_2_optimal = synset_2\n",
    "\n",
    "    return synset_1_optimal, synset_2_optimal, max_similarity"
   ]
  },
  {
   "cell_type": "markdown",
   "metadata": {},
   "source": [
    "We now test this with some sample words:"
   ]
  },
  {
   "cell_type": "code",
   "execution_count": 20,
   "metadata": {},
   "outputs": [
    {
     "name": "stdout",
     "output_type": "stream",
     "text": [
      "Dog Definition: a member of the genus Canis (probably descended from the common wolf) that has been domesticated by man since prehistoric times; occurs in many breeds\n",
      "Cat Definition: feline mammal usually having thick soft fur and no ability to roar: domestic cats; wildcats\n",
      "similarity: -1.3862943611198906\n"
     ]
    }
   ],
   "source": [
    "word_1 = 'dog'\n",
    "word_2 = 'cat'\n",
    "word_1_synset, word_2_synset, similarity = closest_synsets(word_1, word_2)\n",
    "print(word_1.capitalize() + ' Definition:', word_1_synset.definition())\n",
    "print(word_2.capitalize() + ' Definition:', word_2_synset.definition())\n",
    "print('similarity:', similarity)"
   ]
  },
  {
   "cell_type": "code",
   "execution_count": 21,
   "metadata": {},
   "outputs": [
    {
     "name": "stdout",
     "output_type": "stream",
     "text": [
      "Dog Definition: a member of the genus Canis (probably descended from the common wolf) that has been domesticated by man since prehistoric times; occurs in many breeds\n",
      "Wolf Definition: any of various predatory carnivorous canine mammals of North America and Eurasia that usually hunt in packs\n",
      "similarity: -0.6931471805599453\n"
     ]
    }
   ],
   "source": [
    "word_1 = 'dog'\n",
    "word_2 = 'wolf'\n",
    "word_1_synset, word_2_synset, similarity = closest_synsets(word_1, word_2)\n",
    "print(word_1.capitalize() + ' Definition:', word_1_synset.definition())\n",
    "print(word_2.capitalize() + ' Definition:', word_2_synset.definition())\n",
    "print('similarity:', similarity)"
   ]
  },
  {
   "cell_type": "code",
   "execution_count": 22,
   "metadata": {},
   "outputs": [
    {
     "name": "stdout",
     "output_type": "stream",
     "text": [
      "Dog Definition: go after with the intent to catch\n",
      "Chase Definition: go after with the intent to catch\n",
      "similarity: inf\n"
     ]
    },
    {
     "name": "stderr",
     "output_type": "stream",
     "text": [
      "c:\\python37\\lib\\site-packages\\ipykernel_launcher.py:8: RuntimeWarning: divide by zero encountered in log\n",
      "  \n"
     ]
    }
   ],
   "source": [
    "# here we are using verb chase with dog, and let's see what are the closest synsets for this metric\n",
    "word_1 = 'dog'\n",
    "word_2 = 'chase'\n",
    "word_1_synset, word_2_synset, similarity = closest_synsets(word_1, word_2)\n",
    "print(word_1.capitalize() + ' Definition:', word_1_synset.definition())\n",
    "print(word_2.capitalize() + ' Definition:', word_2_synset.definition())\n",
    "print('similarity:', similarity)"
   ]
  },
  {
   "cell_type": "markdown",
   "metadata": {},
   "source": [
    "In the above example we see that dog itself means to chase someone and can also be used as a verb and the function we have created selects that to give us maximum similarity. "
   ]
  },
  {
   "cell_type": "markdown",
   "metadata": {},
   "source": [
    "## Comapring Keywords in Resume\n",
    "We previously divided our resume in 6 parts and selected the top 5 words from each part to create a keyword table and we will be referring to each individual part as a document. Now, let us compare the 6th document (Testing data) with the other 5 documents (Training Data). \n",
    "\n",
    "### 1. Loading in the 6 documents:"
   ]
  },
  {
   "cell_type": "code",
   "execution_count": 23,
   "metadata": {},
   "outputs": [
    {
     "name": "stdout",
     "output_type": "stream",
     "text": [
      "The documents are:\n",
      "[['python', 'data', 'structures', 'students', 'com', 'delhi'],\n",
      " ['java', 'auckland', 'geometry', 'mathematics', 'theory', 'batch'],\n",
      " ['cern', 'applications', 'worked', 'research', 'group', 'core'],\n",
      " ['worked', 'also', 'requests', 'participated', 'many', 'teaching'],\n",
      " ['structures', 'computer', 'algorithms', 'java', 'university', 'mathematics'],\n",
      " ['trinity', 'college', 'london', 'plectrum', 'guitar', 'grade']]\n"
     ]
    }
   ],
   "source": [
    "documents = pickle.load(open('../assets/documents.p', 'rb'))\n",
    "print('The documents are:')\n",
    "pprint.pprint(documents)"
   ]
  },
  {
   "cell_type": "markdown",
   "metadata": {},
   "source": [
    "### 2. Finding Similarity Between 6th Document and Other Documents"
   ]
  },
  {
   "cell_type": "code",
   "execution_count": 28,
   "metadata": {},
   "outputs": [
    {
     "name": "stdout",
     "output_type": "stream",
     "text": [
      "The similarity coefficients are:\n",
      "\n",
      "    trinity   college    london  plectrum    guitar     grade\n",
      "0 -1.609438 -1.609438 -2.079442 -2.197225      -inf -2.564949\n",
      "1 -2.302585 -2.302585 -2.772589 -2.708050 -2.708050 -1.098612\n",
      "2      -inf -2.079442 -2.079442 -2.397895 -2.397895 -1.609438\n",
      "3 -1.945910 -1.945910 -2.302585 -2.197225 -2.397895 -1.791759\n",
      "4 -1.609438 -1.945910 -2.639057 -2.079442 -2.079442 -2.302585\n"
     ]
    }
   ],
   "source": [
    "similarity_mat = np.zeros((len(documents) - 1, len(documents[0])))\n",
    "\n",
    "for column, keyword in enumerate(documents[len(documents) - 1]):\n",
    "    for row in range(len(documents) - 1):\n",
    "        similarity_mat[row][column] = closest_synsets(keyword, documents[row][column])[2]\n",
    "\n",
    "print('The similarity coefficients are:\\n')\n",
    "similarity = pd.DataFrame(similarity_mat, columns=documents[5])\n",
    "print(similarity.to_string())"
   ]
  },
  {
   "cell_type": "markdown",
   "metadata": {},
   "source": [
    "### 3. Saving Similarity Coefficients in a Text File for vieweing Results"
   ]
  },
  {
   "cell_type": "code",
   "execution_count": 29,
   "metadata": {},
   "outputs": [],
   "source": [
    "results = open('../assets/path_similarity_matrix.txt', 'w')\n",
    "results.write(similarity.to_string())\n",
    "results.close()"
   ]
  },
  {
   "cell_type": "markdown",
   "metadata": {},
   "source": [
    "### 4. Selecting Document with Maximum/Minimum Similarity to the 6th Document"
   ]
  },
  {
   "cell_type": "code",
   "execution_count": 30,
   "metadata": {},
   "outputs": [
    {
     "name": "stdout",
     "output_type": "stream",
     "text": [
      "Document with Minimum Similarity to 6th document: ['java', 'auckland', 'geometry', 'mathematics', 'theory', 'batch']\n"
     ]
    }
   ],
   "source": [
    "min = similarity_mat.argmin(axis=0)\n",
    "max = similarity_mat.argmax(axis=0)\n",
    "\n",
    "# document with least/maximum similarity\n",
    "document_min_similarity = stats.mode(min).mode[0]\n",
    "document_max_similarity = stats.mode(max).mode[0]\n",
    "\n",
    "print('Document with Minimum Similarity to 6th document:', documents[document_min_similarity])"
   ]
  },
  {
   "cell_type": "code",
   "execution_count": 31,
   "metadata": {},
   "outputs": [
    {
     "name": "stdout",
     "output_type": "stream",
     "text": [
      "Document with Maximum Similarity to 6th document: ['python', 'data', 'structures', 'students', 'com', 'delhi']\n"
     ]
    }
   ],
   "source": [
    "print('Document with Maximum Similarity to 6th document:', documents[document_max_similarity])"
   ]
  }
 ],
 "metadata": {
  "kernelspec": {
   "display_name": "Python 3",
   "language": "python",
   "name": "python3"
  },
  "language_info": {
   "codemirror_mode": {
    "name": "ipython",
    "version": 3
   },
   "file_extension": ".py",
   "mimetype": "text/x-python",
   "name": "python",
   "nbconvert_exporter": "python",
   "pygments_lexer": "ipython3",
   "version": "3.7.9"
  }
 },
 "nbformat": 4,
 "nbformat_minor": 4
}
